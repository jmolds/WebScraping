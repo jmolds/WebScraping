{
  "cells": [
    {
      "cell_type": "markdown",
      "source": [
        "# Webscraping using Python and BeautifulSoup -- Tutorial reference notes (Justin M. Olds)\n",
        "\n",
        "#### Tutorial: https://www.dataquest.io/blog/web-scraping-tutorial-python/\n",
        "#### BS documentation: https://www.crummy.com/software/BeautifulSoup/bs4/doc/\n",
        "---\n",
        "## html tag notes:\n",
        "* child — a child is a tag inside another tag. So the two p tags above are both children of the body tag.\n",
        "* parent — a parent is the tag another tag is inside. Above, the html tag is the parent of the body tag.\n",
        "* sibiling — a sibiling is a tag that is nested inside the same parent as another tag. For example, head and body are siblings, since they're both inside html. Both p tags are siblings, since they're both inside body.\n",
        "\n",
        "**a** and **p** are extremely common html tags. Here are a few others:\n",
        "\n",
        "**div** — indicates a division, or area, of the page.\n",
        "**b** — bolds any text inside.\n",
        "**i** — italicizes any text inside.\n",
        "**table** — creates a table.\n",
        "**form** — creates an input form.\n",
        "\n",
        "---\n",
        "## html properties notes: \n",
        "\n",
        "properties give HTML elements names, and make them easier to interact with when scraping.\n",
        "* **classes** - One element can have multiple classes, and a class can be shared between elements.\n",
        "* **id** - Each element can only have one id, and an id can only be used once on a page.\n",
        "\n",
        "---\n",
        "\n",
        "## The Requests library\n",
        "### Use request package (get function) to save html pages"
      ],
      "metadata": {}
    },
    {
      "cell_type": "code",
      "source": [
        "import IPython\n",
        "\n",
        "from IPython.display import HTML\n",
        "from IPython.display import display\n",
        "\n",
        "import requests\n",
        "\n",
        "page = requests.get(\"https://dataquestio.github.io/web-scraping-pages/simple.html\")\n",
        "page"
      ],
      "outputs": [
        {
          "output_type": "execute_result",
          "execution_count": 5,
          "data": {
            "text/plain": [
              "<Response [200]>"
            ]
          },
          "metadata": {}
        }
      ],
      "execution_count": 5,
      "metadata": {
        "collapsed": false,
        "outputHidden": false,
        "inputHidden": false
      }
    },
    {
      "cell_type": "markdown",
      "source": [
        "### Response 200 (200's) denotes success. 400's or 500's denote an error. \n",
        "---\n",
        "### Response objects are saved as an attribute of the requests.get object"
      ],
      "metadata": {}
    },
    {
      "cell_type": "code",
      "source": [
        "page.status_code"
      ],
      "outputs": [
        {
          "output_type": "execute_result",
          "execution_count": 6,
          "data": {
            "text/plain": [
              "200"
            ]
          },
          "metadata": {}
        }
      ],
      "execution_count": 6,
      "metadata": {
        "collapsed": false,
        "outputHidden": false,
        "inputHidden": false
      }
    },
    {
      "cell_type": "markdown",
      "source": [
        "### The html is saved within the 'content' attribute"
      ],
      "metadata": {}
    },
    {
      "cell_type": "code",
      "source": [
        "page.content"
      ],
      "outputs": [
        {
          "output_type": "execute_result",
          "execution_count": 7,
          "data": {
            "text/plain": [
              "b'<!DOCTYPE html>\\n<html>\\n    <head>\\n        <title>A simple example page</title>\\n    </head>\\n    <body>\\n        <p>Here is some simple content for this page.</p>\\n    </body>\\n</html>'"
            ]
          },
          "metadata": {}
        }
      ],
      "execution_count": 7,
      "metadata": {
        "collapsed": false,
        "outputHidden": false,
        "inputHidden": false
      }
    },
    {
      "cell_type": "markdown",
      "source": [
        "## Beautiful Soup\n",
        "### Soupify (i.e., parse) the page object"
      ],
      "metadata": {}
    },
    {
      "cell_type": "code",
      "source": [
        "from bs4 import BeautifulSoup\n",
        "soup = BeautifulSoup(page.content, 'html.parser')"
      ],
      "outputs": [],
      "execution_count": 8,
      "metadata": {
        "collapsed": false,
        "outputHidden": false,
        "inputHidden": false
      }
    },
    {
      "cell_type": "code",
      "source": [
        "soup"
      ],
      "outputs": [
        {
          "output_type": "execute_result",
          "execution_count": 9,
          "data": {
            "text/plain": [
              "<!DOCTYPE html>\n",
              "\n",
              "<html>\n",
              "<head>\n",
              "<title>A simple example page</title>\n",
              "</head>\n",
              "<body>\n",
              "<p>Here is some simple content for this page.</p>\n",
              "</body>\n",
              "</html>"
            ]
          },
          "metadata": {}
        }
      ],
      "execution_count": 9,
      "metadata": {
        "collapsed": false,
        "outputHidden": false,
        "inputHidden": false
      }
    },
    {
      "cell_type": "code",
      "source": [
        "print(soup.prettify())"
      ],
      "outputs": [
        {
          "output_type": "stream",
          "name": "stdout",
          "text": [
            "<!DOCTYPE html>\n",
            "<html>\n",
            " <head>\n",
            "  <title>\n",
            "   A simple example page\n",
            "  </title>\n",
            " </head>\n",
            " <body>\n",
            "  <p>\n",
            "   Here is some simple content for this page.\n",
            "  </p>\n",
            " </body>\n",
            "</html>\n"
          ]
        }
      ],
      "execution_count": 10,
      "metadata": {
        "collapsed": false,
        "outputHidden": false,
        "inputHidden": false
      }
    },
    {
      "cell_type": "markdown",
      "source": [
        "### Here are some simple ways to navigate that data structure:"
      ],
      "metadata": {}
    },
    {
      "cell_type": "code",
      "source": [
        "soup.title"
      ],
      "outputs": [
        {
          "output_type": "execute_result",
          "execution_count": 11,
          "data": {
            "text/plain": [
              "<title>A simple example page</title>"
            ]
          },
          "metadata": {}
        }
      ],
      "execution_count": 11,
      "metadata": {
        "collapsed": false,
        "outputHidden": false,
        "inputHidden": false
      }
    },
    {
      "cell_type": "code",
      "source": [
        "soup.title.name"
      ],
      "outputs": [
        {
          "output_type": "execute_result",
          "execution_count": 12,
          "data": {
            "text/plain": [
              "'title'"
            ]
          },
          "metadata": {}
        }
      ],
      "execution_count": 12,
      "metadata": {
        "collapsed": false,
        "outputHidden": false,
        "inputHidden": false
      }
    },
    {
      "cell_type": "code",
      "source": [
        "soup.title.string"
      ],
      "outputs": [
        {
          "output_type": "execute_result",
          "execution_count": 13,
          "data": {
            "text/plain": [
              "'A simple example page'"
            ]
          },
          "metadata": {}
        }
      ],
      "execution_count": 13,
      "metadata": {
        "collapsed": false,
        "outputHidden": false,
        "inputHidden": false
      }
    },
    {
      "cell_type": "code",
      "source": [
        "soup.title.parent.name"
      ],
      "outputs": [
        {
          "output_type": "execute_result",
          "execution_count": 14,
          "data": {
            "text/plain": [
              "'head'"
            ]
          },
          "metadata": {}
        }
      ],
      "execution_count": 14,
      "metadata": {
        "collapsed": false,
        "outputHidden": false,
        "inputHidden": false
      }
    },
    {
      "cell_type": "code",
      "source": [
        "soup.p"
      ],
      "outputs": [
        {
          "output_type": "execute_result",
          "execution_count": 15,
          "data": {
            "text/plain": [
              "<p>Here is some simple content for this page.</p>"
            ]
          },
          "metadata": {}
        }
      ],
      "execution_count": 15,
      "metadata": {
        "collapsed": false,
        "outputHidden": false,
        "inputHidden": false
      }
    },
    {
      "cell_type": "markdown",
      "source": [
        "---\n",
        "### Examine all elements at the top level of the page using the children property of soup.\n",
        "##### Note: the children command returns a list generator so we need to call the list function on it."
      ],
      "metadata": {}
    },
    {
      "cell_type": "code",
      "source": [
        "list(soup.children)"
      ],
      "outputs": [
        {
          "output_type": "execute_result",
          "execution_count": 16,
          "data": {
            "text/plain": [
              "['html', '\\n', <html>\n",
              " <head>\n",
              " <title>A simple example page</title>\n",
              " </head>\n",
              " <body>\n",
              " <p>Here is some simple content for this page.</p>\n",
              " </body>\n",
              " </html>]"
            ]
          },
          "metadata": {}
        }
      ],
      "execution_count": 16,
      "metadata": {
        "collapsed": false,
        "outputHidden": false,
        "inputHidden": false
      }
    },
    {
      "cell_type": "markdown",
      "source": [
        "#### The first line of the output tells us that there are two tags at the top level of the page\n",
        "* !DOCTYPE html \n",
        "* html \n",
        "* There is a newline (\\n) in the list as well\n",
        "\n",
        "---\n",
        "### Examine the type of element in the top-level-tags list"
      ],
      "metadata": {}
    },
    {
      "cell_type": "code",
      "source": [
        "[type(item) for item in list(soup.children)]"
      ],
      "outputs": [
        {
          "output_type": "execute_result",
          "execution_count": 17,
          "data": {
            "text/plain": [
              "[bs4.element.Doctype, bs4.element.NavigableString, bs4.element.Tag]"
            ]
          },
          "metadata": {}
        }
      ],
      "execution_count": 17,
      "metadata": {
        "collapsed": false,
        "outputHidden": false,
        "inputHidden": false
      }
    },
    {
      "cell_type": "markdown",
      "source": [
        "#### \"bs4.\" denotes that each element in the list is a BeautifulSoup object\n",
        "* Doctype - information about the type of document \n",
        "* NavigableString - represents text found in the html document\n",
        "* Tag - the important one ;) often contains other nested tags. \n",
        "---\n",
        "### Select the html tag and its children by taking the third item in the list\n",
        "##### Note: index elements begin at 0, thus the third element is 2"
      ],
      "metadata": {}
    },
    {
      "cell_type": "code",
      "source": [
        "html = list(soup.children)[2]"
      ],
      "outputs": [],
      "execution_count": 18,
      "metadata": {
        "collapsed": false,
        "outputHidden": false,
        "inputHidden": false
      }
    },
    {
      "cell_type": "markdown",
      "source": [
        "### Find the children nested within the html tag"
      ],
      "metadata": {}
    },
    {
      "cell_type": "code",
      "source": [
        "list(html.children)"
      ],
      "outputs": [
        {
          "output_type": "execute_result",
          "execution_count": 19,
          "data": {
            "text/plain": [
              "['\\n', <head>\n",
              " <title>A simple example page</title>\n",
              " </head>, '\\n', <body>\n",
              " <p>Here is some simple content for this page.</p>\n",
              " </body>, '\\n']"
            ]
          },
          "metadata": {}
        }
      ],
      "execution_count": 19,
      "metadata": {
        "collapsed": false,
        "outputHidden": false,
        "inputHidden": false
      }
    },
    {
      "cell_type": "code",
      "source": [
        "[type(item) for item in list(html.children)]"
      ],
      "outputs": [
        {
          "output_type": "execute_result",
          "execution_count": 20,
          "data": {
            "text/plain": [
              "[bs4.element.NavigableString,\n",
              " bs4.element.Tag,\n",
              " bs4.element.NavigableString,\n",
              " bs4.element.Tag,\n",
              " bs4.element.NavigableString]"
            ]
          },
          "metadata": {}
        }
      ],
      "execution_count": 20,
      "metadata": {
        "collapsed": false,
        "outputHidden": false,
        "inputHidden": false
      }
    },
    {
      "cell_type": "markdown",
      "source": [
        "### There are two tags here\n",
        "* head \n",
        "* body \n",
        "---\n",
        "### We can find the p tag by finding the children of the body tag"
      ],
      "metadata": {}
    },
    {
      "cell_type": "code",
      "source": [
        "body = list(html.children)[3]"
      ],
      "outputs": [],
      "execution_count": 21,
      "metadata": {
        "collapsed": false,
        "outputHidden": false,
        "inputHidden": false
      }
    },
    {
      "cell_type": "code",
      "source": [
        "list(body.children)"
      ],
      "outputs": [
        {
          "output_type": "execute_result",
          "execution_count": 22,
          "data": {
            "text/plain": [
              "['\\n', <p>Here is some simple content for this page.</p>, '\\n']"
            ]
          },
          "metadata": {}
        }
      ],
      "execution_count": 22,
      "metadata": {
        "collapsed": false,
        "outputHidden": false,
        "inputHidden": false
      }
    },
    {
      "cell_type": "code",
      "source": [
        "[type(item) for item in list(body.children)]"
      ],
      "outputs": [
        {
          "output_type": "execute_result",
          "execution_count": 23,
          "data": {
            "text/plain": [
              "[bs4.element.NavigableString, bs4.element.Tag, bs4.element.NavigableString]"
            ]
          },
          "metadata": {}
        }
      ],
      "execution_count": 23,
      "metadata": {
        "collapsed": false,
        "outputHidden": false,
        "inputHidden": false
      }
    },
    {
      "cell_type": "markdown",
      "source": [
        "### Isolate the p tag"
      ],
      "metadata": {}
    },
    {
      "cell_type": "code",
      "source": [
        "p = list(body.children)[1]"
      ],
      "outputs": [],
      "execution_count": 24,
      "metadata": {
        "collapsed": false,
        "outputHidden": false,
        "inputHidden": false
      }
    },
    {
      "cell_type": "markdown",
      "source": [
        "### Once isolated, extract all of the text using get_text method"
      ],
      "metadata": {}
    },
    {
      "cell_type": "code",
      "source": [
        "p.get_text()"
      ],
      "outputs": [
        {
          "output_type": "execute_result",
          "execution_count": 25,
          "data": {
            "text/plain": [
              "'Here is some simple content for this page.'"
            ]
          },
          "metadata": {}
        }
      ],
      "execution_count": 25,
      "metadata": {
        "collapsed": false,
        "outputHidden": false,
        "inputHidden": false
      }
    },
    {
      "cell_type": "markdown",
      "source": [
        "## Finding all instances of a tag"
      ],
      "metadata": {}
    },
    {
      "cell_type": "code",
      "source": [
        "soup = BeautifulSoup(page.content, 'html.parser')\n",
        "soup.find_all('p')"
      ],
      "outputs": [
        {
          "output_type": "execute_result",
          "execution_count": 26,
          "data": {
            "text/plain": [
              "[<p>Here is some simple content for this page.</p>]"
            ]
          },
          "metadata": {}
        }
      ],
      "execution_count": 26,
      "metadata": {
        "collapsed": false,
        "outputHidden": false,
        "inputHidden": false
      }
    },
    {
      "cell_type": "markdown",
      "source": [
        "##### Note: find_all returns a list, so we have to loop through it or use list indexing to extract text. \n",
        "---\n",
        "#### The find method will resturing a single BeautifulSoup object with the first instance of a tag"
      ],
      "metadata": {}
    },
    {
      "cell_type": "code",
      "source": [
        "soup.find('p')"
      ],
      "outputs": [
        {
          "output_type": "execute_result",
          "execution_count": 27,
          "data": {
            "text/plain": [
              "<p>Here is some simple content for this page.</p>"
            ]
          },
          "metadata": {}
        }
      ],
      "execution_count": 27,
      "metadata": {
        "collapsed": false,
        "outputHidden": false,
        "inputHidden": false
      }
    },
    {
      "cell_type": "markdown",
      "source": [
        "## Searching for tags by class and id\n",
        "##### Note: These properties are used to uniformly apply certain styles of formatting for related parts of a webpage"
      ],
      "metadata": {}
    },
    {
      "cell_type": "code",
      "source": [
        "page = requests.get(\"http://dataquestio.github.io/web-scraping-pages/ids_and_classes.html\")\n",
        "soup = BeautifulSoup(page.content, 'html.parser')\n",
        "print(soup.prettify())"
      ],
      "outputs": [
        {
          "output_type": "stream",
          "name": "stdout",
          "text": [
            "<html>\n",
            " <head>\n",
            "  <title>\n",
            "   A simple example page\n",
            "  </title>\n",
            " </head>\n",
            " <body>\n",
            "  <div>\n",
            "   <p class=\"inner-text first-item\" id=\"first\">\n",
            "    First paragraph.\n",
            "   </p>\n",
            "   <p class=\"inner-text\">\n",
            "    Second paragraph.\n",
            "   </p>\n",
            "  </div>\n",
            "  <p class=\"outer-text first-item\" id=\"second\">\n",
            "   <b>\n",
            "    First outer paragraph.\n",
            "   </b>\n",
            "  </p>\n",
            "  <p class=\"outer-text\">\n",
            "   <b>\n",
            "    Second outer paragraph.\n",
            "   </b>\n",
            "  </p>\n",
            " </body>\n",
            "</html>\n"
          ]
        }
      ],
      "execution_count": 28,
      "metadata": {
        "collapsed": false,
        "outputHidden": false,
        "inputHidden": false
      }
    },
    {
      "cell_type": "markdown",
      "source": [
        "#### search for any p tag that has the class outer-text"
      ],
      "metadata": {}
    },
    {
      "cell_type": "code",
      "source": [
        "soup.find_all('p', class_='outer-text')"
      ],
      "outputs": [
        {
          "output_type": "execute_result",
          "execution_count": 29,
          "data": {
            "text/plain": [
              "[<p class=\"outer-text first-item\" id=\"second\">\n",
              " <b>\n",
              "                 First outer paragraph.\n",
              "             </b>\n",
              " </p>, <p class=\"outer-text\">\n",
              " <b>\n",
              "                 Second outer paragraph.\n",
              "             </b>\n",
              " </p>]"
            ]
          },
          "metadata": {}
        }
      ],
      "execution_count": 29,
      "metadata": {
        "collapsed": false,
        "outputHidden": false,
        "inputHidden": false
      }
    },
    {
      "cell_type": "markdown",
      "source": [
        "search for all elements with id first"
      ],
      "metadata": {}
    },
    {
      "cell_type": "code",
      "source": [
        "soup.find_all(id=\"first\")"
      ],
      "outputs": [
        {
          "output_type": "execute_result",
          "execution_count": 30,
          "data": {
            "text/plain": [
              "[<p class=\"inner-text first-item\" id=\"first\">\n",
              "                 First paragraph.\n",
              "             </p>]"
            ]
          },
          "metadata": {}
        }
      ],
      "execution_count": 30,
      "metadata": {
        "collapsed": false,
        "outputHidden": false,
        "inputHidden": false
      }
    },
    {
      "cell_type": "markdown",
      "source": [
        "## Searching a page via CSS selectors using the select methods\n",
        "https://developer.mozilla.org/en-US/docs/Web/Guide/CSS/Getting_started/Selectors\n",
        "CSS selectors allow develops to specify html tags for style/formatting. Some examples... \n",
        "* **p a** - finds all a tags inside of a p tag\n",
        "* **body p a** - find all a tags inside of a p tag inside of a body tag\n",
        "* **html body** - finds al body tags inside of an html tag\n",
        "* **p.outer-text** - finds all p tags with a class of outer-text\n",
        "* **p#first** - finds all ptags with an id of first\n",
        "* **body p.outer-text** - finds any p tags with a class of outer-text inside of a body tag\n",
        "---\n",
        "### Find all the p tags in our page that are inside of a div \n"
      ],
      "metadata": {}
    },
    {
      "cell_type": "code",
      "source": [
        "soup.select(\"div p\")"
      ],
      "outputs": [
        {
          "output_type": "execute_result",
          "execution_count": 31,
          "data": {
            "text/plain": [
              "[<p class=\"inner-text first-item\" id=\"first\">\n",
              "                 First paragraph.\n",
              "             </p>, <p class=\"inner-text\">\n",
              "                 Second paragraph.\n",
              "             </p>]"
            ]
          },
          "metadata": {}
        }
      ],
      "execution_count": 31,
      "metadata": {
        "collapsed": false,
        "outputHidden": false,
        "inputHidden": false
      }
    },
    {
      "cell_type": "markdown",
      "source": [
        "##### Note: the select method returns a list of BeautifulSoup objects just like find and find_all. \n",
        "---\n",
        "## Downloading weather data \n",
        "National Weather Service: http://forecast.weather.gov/MapClick.php?lat=37.7772&lon=-122.4168 \n",
        "\n",
        "### Target data to scrape: Extended Forecast\n",
        "\n",
        "## Exploring page structure with Chrome DevTools\n",
        "#### The elements panel within DevTools shows all html tags. In this example, highlighting the extended forcast reveals a div tag with the id seven-day-forecast. Further exploration of this page's elements reveals that each forcast item (e.g., Tonight, Thursday, Thursday Night) is contained in a div with the class tombstone-container\n",
        "---\n",
        "###Next...\n",
        "* Download the web page containing the forecast\n",
        "* Create a BeautifulSoup class to parse the page\n",
        "* Find the div with id seven-day-forecaste, and assign to .seven_day\n",
        "* Inside seven_day, find each individual forecaste item\n",
        "* Extract and print"
      ],
      "metadata": {}
    },
    {
      "cell_type": "code",
      "source": [
        "page = requests.get(\"http://forecast.weather.gov/MapClick.php?lat=37.7772&lon=-122.4168\")\n",
        "soup = BeautifulSoup(page.content, 'html.parser')  \n",
        "seven_day = soup.find(id='seven-day-forecast')\n",
        "forecast_items = seven_day.find_all(class_='tombstone-container')\n",
        "tonight = forecast_items[0]\n",
        "print(tonight.prettify())"
      ],
      "outputs": [
        {
          "output_type": "stream",
          "name": "stdout",
          "text": [
            "<div class=\"tombstone-container\">\n",
            " <p class=\"period-name\">\n",
            "  This\n",
            "  <br/>\n",
            "  Afternoon\n",
            " </p>\n",
            " <p>\n",
            "  <img alt=\"This Afternoon: Sunny, with a high near 67. West southwest wind 9 to 16 mph, with gusts as high as 21 mph. \" class=\"forecast-icon\" src=\"newimages/medium/few.png\" title=\"This Afternoon: Sunny, with a high near 67. West southwest wind 9 to 16 mph, with gusts as high as 21 mph. \"/>\n",
            " </p>\n",
            " <p class=\"short-desc\">\n",
            "  Sunny\n",
            " </p>\n",
            " <p class=\"temp temp-high\">\n",
            "  High: 67 °F\n",
            " </p>\n",
            "</div>\n"
          ]
        }
      ],
      "execution_count": 32,
      "metadata": {
        "collapsed": false,
        "outputHidden": false,
        "inputHidden": false
      }
    },
    {
      "cell_type": "markdown",
      "source": [
        "### Extract information from the page\n",
        "* Name of the forecast item (tonight)\n",
        "* Weather condition discription (title property of img)\n",
        "* Short discription (Cloudy)\n",
        "* Temperature low -- 54"
      ],
      "metadata": {}
    },
    {
      "cell_type": "code",
      "source": [
        "period = tonight.find(class_='period-name').get_text()\n",
        "short_desc = tonight.find(class_=\"short-desc\").get_text()\n",
        "temp = tonight.find(class_=\"temp\").get_text()\n",
        "\n",
        "print(period)\n",
        "print(short_desc)\n",
        "print(temp)"
      ],
      "outputs": [
        {
          "output_type": "stream",
          "name": "stdout",
          "text": [
            "ThisAfternoon\n",
            "Sunny\n",
            "High: 67 °F\n"
          ]
        }
      ],
      "execution_count": 33,
      "metadata": {
        "collapsed": false,
        "outputHidden": false,
        "inputHidden": false
      }
    },
    {
      "cell_type": "code",
      "source": [
        "img = tonight.find(\"img\")\n",
        "desc = img['title']\n",
        "\nprint(desc)"
      ],
      "outputs": [
        {
          "output_type": "stream",
          "name": "stdout",
          "text": [
            "This Afternoon: Sunny, with a high near 67. West southwest wind 9 to 16 mph, with gusts as high as 21 mph. \n"
          ]
        }
      ],
      "execution_count": 34,
      "metadata": {
        "collapsed": false,
        "outputHidden": false,
        "inputHidden": false
      }
    },
    {
      "cell_type": "markdown",
      "source": [
        "### Extract all the page info\n",
        "* Select all items with the class period-name inside of an item with the class tombstone-container in seven_day\n",
        "* Use a list comprehenion to call the get_text method on each BeautifulSoup object"
      ],
      "metadata": {}
    },
    {
      "cell_type": "code",
      "source": [
        "period_tags = seven_day.select('.tombstone-container .period-name') \n",
        "periods = [pt.get_text() for pt in period_tags]\n",
        "periods"
      ],
      "outputs": [
        {
          "output_type": "execute_result",
          "execution_count": 35,
          "data": {
            "text/plain": [
              "['ThisAfternoon',\n",
              " 'Tonight',\n",
              " 'Friday',\n",
              " 'FridayNight',\n",
              " 'Saturday',\n",
              " 'SaturdayNight',\n",
              " 'Sunday',\n",
              " 'SundayNight',\n",
              " 'Monday']"
            ]
          },
          "metadata": {}
        }
      ],
      "execution_count": 35,
      "metadata": {
        "collapsed": false,
        "outputHidden": false,
        "inputHidden": false
      }
    },
    {
      "cell_type": "code",
      "source": [
        "[type(item) for item in list(period_tags)]"
      ],
      "outputs": [
        {
          "output_type": "execute_result",
          "execution_count": 36,
          "data": {
            "text/plain": [
              "[bs4.element.Tag,\n",
              " bs4.element.Tag,\n",
              " bs4.element.Tag,\n",
              " bs4.element.Tag,\n",
              " bs4.element.Tag,\n",
              " bs4.element.Tag,\n",
              " bs4.element.Tag,\n",
              " bs4.element.Tag,\n",
              " bs4.element.Tag]"
            ]
          },
          "metadata": {}
        }
      ],
      "execution_count": 36,
      "metadata": {
        "collapsed": false,
        "outputHidden": false,
        "inputHidden": false
      }
    },
    {
      "cell_type": "code",
      "source": [
        "short_descs = [sd.get_text() for sd in seven_day.select('.tombstone-container .short-desc')]\n",
        "temps = [t.get_text() for t in seven_day.select('.tombstone-container .temp')]\n",
        "descs = [d[\"title\"] for d in seven_day.select('.tombstone-container img')]\n",
        "\nprint(short_descs)"
      ],
      "outputs": [
        {
          "output_type": "stream",
          "name": "stdout",
          "text": [
            "['Sunny', 'Partly Cloudy', 'DecreasingClouds', 'IncreasingClouds', 'Mostly Sunny', 'Mostly Cloudy', 'Mostly Sunny', 'Partly Cloudy', 'Mostly Sunny']\n"
          ]
        }
      ],
      "execution_count": 37,
      "metadata": {
        "collapsed": false,
        "outputHidden": false,
        "inputHidden": false
      }
    },
    {
      "cell_type": "code",
      "source": [
        "print(temps)"
      ],
      "outputs": [
        {
          "output_type": "stream",
          "name": "stdout",
          "text": [
            "['High: 67 °F', 'Low: 54 °F', 'High: 70 °F', 'Low: 55 °F', 'High: 68 °F', 'Low: 54 °F', 'High: 66 °F', 'Low: 54 °F', 'High: 66 °F']\n"
          ]
        }
      ],
      "execution_count": 38,
      "metadata": {
        "collapsed": false,
        "outputHidden": false,
        "inputHidden": false
      }
    },
    {
      "cell_type": "code",
      "source": [
        "print(descs)"
      ],
      "outputs": [
        {
          "output_type": "stream",
          "name": "stdout",
          "text": [
            "['This Afternoon: Sunny, with a high near 67. West southwest wind 9 to 16 mph, with gusts as high as 21 mph. ', 'Tonight: Partly cloudy, with a low around 54. West southwest wind 13 to 18 mph decreasing to 7 to 12 mph after midnight. Winds could gust as high as 24 mph. ', 'Friday: Mostly cloudy, then gradually becoming sunny, with a high near 70. West southwest wind 7 to 12 mph increasing to 13 to 18 mph in the afternoon. Winds could gust as high as 25 mph. ', 'Friday Night: Increasing clouds, with a low around 55. West southwest wind 14 to 18 mph, with gusts as high as 24 mph. ', 'Saturday: Mostly sunny, with a high near 68. West southwest wind 9 to 15 mph, with gusts as high as 20 mph. ', 'Saturday Night: Mostly cloudy, with a low around 54.', 'Sunday: Mostly sunny, with a high near 66.', 'Sunday Night: Partly cloudy, with a low around 54.', 'Monday: Mostly sunny, with a high near 66.']\n"
          ]
        }
      ],
      "execution_count": 39,
      "metadata": {
        "collapsed": false,
        "outputHidden": false,
        "inputHidden": false
      }
    },
    {
      "cell_type": "markdown",
      "source": [
        "### Importing data into a Pandas Dataframe\n",
        "* call the DataFrame class\n",
        "* pass each list o fitems in as part of a dictionary\n",
        "* Each dictionary key will become a column in the DataFrame"
      ],
      "metadata": {}
    },
    {
      "cell_type": "code",
      "source": [
        "import pandas as pd\n",
        "weather = pd.DataFrame({\n",
        "    'period': periods, \n",
        "    'short_desc': short_descs,\n",
        "    'temp': temps, \n",
        "    'desc': descs\n",
        "})\n",
        "weather"
      ],
      "outputs": [
        {
          "output_type": "execute_result",
          "execution_count": 40,
          "data": {
            "text/plain": [
              "          period        short_desc         temp  \\\n",
              "0  ThisAfternoon             Sunny  High: 67 °F   \n",
              "1        Tonight     Partly Cloudy   Low: 54 °F   \n",
              "2         Friday  DecreasingClouds  High: 70 °F   \n",
              "3    FridayNight  IncreasingClouds   Low: 55 °F   \n",
              "4       Saturday      Mostly Sunny  High: 68 °F   \n",
              "5  SaturdayNight     Mostly Cloudy   Low: 54 °F   \n",
              "6         Sunday      Mostly Sunny  High: 66 °F   \n",
              "7    SundayNight     Partly Cloudy   Low: 54 °F   \n",
              "8         Monday      Mostly Sunny  High: 66 °F   \n",
              "\n",
              "                                                desc  \n",
              "0  This Afternoon: Sunny, with a high near 67. We...  \n",
              "1  Tonight: Partly cloudy, with a low around 54. ...  \n",
              "2  Friday: Mostly cloudy, then gradually becoming...  \n",
              "3  Friday Night: Increasing clouds, with a low ar...  \n",
              "4  Saturday: Mostly sunny, with a high near 68. W...  \n",
              "5  Saturday Night: Mostly cloudy, with a low arou...  \n",
              "6         Sunday: Mostly sunny, with a high near 66.  \n",
              "7  Sunday Night: Partly cloudy, with a low around...  \n",
              "8         Monday: Mostly sunny, with a high near 66.  "
            ],
            "text/html": [
              "<div>\n",
              "<style scoped>\n",
              "    .dataframe tbody tr th:only-of-type {\n",
              "        vertical-align: middle;\n",
              "    }\n",
              "\n",
              "    .dataframe tbody tr th {\n",
              "        vertical-align: top;\n",
              "    }\n",
              "\n",
              "    .dataframe thead th {\n",
              "        text-align: right;\n",
              "    }\n",
              "</style>\n",
              "<table border=\"1\" class=\"dataframe\">\n",
              "  <thead>\n",
              "    <tr style=\"text-align: right;\">\n",
              "      <th></th>\n",
              "      <th>period</th>\n",
              "      <th>short_desc</th>\n",
              "      <th>temp</th>\n",
              "      <th>desc</th>\n",
              "    </tr>\n",
              "  </thead>\n",
              "  <tbody>\n",
              "    <tr>\n",
              "      <th>0</th>\n",
              "      <td>ThisAfternoon</td>\n",
              "      <td>Sunny</td>\n",
              "      <td>High: 67 °F</td>\n",
              "      <td>This Afternoon: Sunny, with a high near 67. We...</td>\n",
              "    </tr>\n",
              "    <tr>\n",
              "      <th>1</th>\n",
              "      <td>Tonight</td>\n",
              "      <td>Partly Cloudy</td>\n",
              "      <td>Low: 54 °F</td>\n",
              "      <td>Tonight: Partly cloudy, with a low around 54. ...</td>\n",
              "    </tr>\n",
              "    <tr>\n",
              "      <th>2</th>\n",
              "      <td>Friday</td>\n",
              "      <td>DecreasingClouds</td>\n",
              "      <td>High: 70 °F</td>\n",
              "      <td>Friday: Mostly cloudy, then gradually becoming...</td>\n",
              "    </tr>\n",
              "    <tr>\n",
              "      <th>3</th>\n",
              "      <td>FridayNight</td>\n",
              "      <td>IncreasingClouds</td>\n",
              "      <td>Low: 55 °F</td>\n",
              "      <td>Friday Night: Increasing clouds, with a low ar...</td>\n",
              "    </tr>\n",
              "    <tr>\n",
              "      <th>4</th>\n",
              "      <td>Saturday</td>\n",
              "      <td>Mostly Sunny</td>\n",
              "      <td>High: 68 °F</td>\n",
              "      <td>Saturday: Mostly sunny, with a high near 68. W...</td>\n",
              "    </tr>\n",
              "    <tr>\n",
              "      <th>5</th>\n",
              "      <td>SaturdayNight</td>\n",
              "      <td>Mostly Cloudy</td>\n",
              "      <td>Low: 54 °F</td>\n",
              "      <td>Saturday Night: Mostly cloudy, with a low arou...</td>\n",
              "    </tr>\n",
              "    <tr>\n",
              "      <th>6</th>\n",
              "      <td>Sunday</td>\n",
              "      <td>Mostly Sunny</td>\n",
              "      <td>High: 66 °F</td>\n",
              "      <td>Sunday: Mostly sunny, with a high near 66.</td>\n",
              "    </tr>\n",
              "    <tr>\n",
              "      <th>7</th>\n",
              "      <td>SundayNight</td>\n",
              "      <td>Partly Cloudy</td>\n",
              "      <td>Low: 54 °F</td>\n",
              "      <td>Sunday Night: Partly cloudy, with a low around...</td>\n",
              "    </tr>\n",
              "    <tr>\n",
              "      <th>8</th>\n",
              "      <td>Monday</td>\n",
              "      <td>Mostly Sunny</td>\n",
              "      <td>High: 66 °F</td>\n",
              "      <td>Monday: Mostly sunny, with a high near 66.</td>\n",
              "    </tr>\n",
              "  </tbody>\n",
              "</table>\n",
              "</div>"
            ]
          },
          "metadata": {}
        }
      ],
      "execution_count": 40,
      "metadata": {
        "collapsed": false,
        "outputHidden": false,
        "inputHidden": false
      }
    },
    {
      "cell_type": "markdown",
      "source": [
        "### Extract the temperature values as numeric values for analyses"
      ],
      "metadata": {}
    },
    {
      "cell_type": "code",
      "source": [
        "temp_nums = weather['temp'].str.extract('(?P<temp_num>\\d+)', expand=False)\n",
        "weather['temp_num'] = temp_nums.astype('int')\n",
        "temp_nums"
      ],
      "outputs": [
        {
          "output_type": "execute_result",
          "execution_count": 44,
          "data": {
            "text/plain": [
              "0    67\n",
              "1    54\n",
              "2    70\n",
              "3    55\n",
              "4    68\n",
              "5    54\n",
              "6    66\n",
              "7    54\n",
              "8    66\n",
              "Name: temp_num, dtype: object"
            ]
          },
          "metadata": {}
        }
      ],
      "execution_count": 44,
      "metadata": {
        "collapsed": false,
        "outputHidden": false,
        "inputHidden": false
      }
    },
    {
      "cell_type": "markdown",
      "source": [
        "### Find the mean of all the high and low temperatures:"
      ],
      "metadata": {}
    },
    {
      "cell_type": "code",
      "source": [
        "weather['temp_num'].mean()"
      ],
      "outputs": [
        {
          "output_type": "execute_result",
          "execution_count": 45,
          "data": {
            "text/plain": [
              "61.55555555555556"
            ]
          },
          "metadata": {}
        }
      ],
      "execution_count": 45,
      "metadata": {
        "collapsed": false,
        "outputHidden": false,
        "inputHidden": false
      }
    },
    {
      "cell_type": "markdown",
      "source": [
        "### Select only rows at night (low temp values)"
      ],
      "metadata": {}
    },
    {
      "cell_type": "code",
      "source": [
        "is_night = weather['temp'].str.contains('Low') \n",
        "weather['is_night'] = is_night\n",
        "is_night"
      ],
      "outputs": [
        {
          "output_type": "execute_result",
          "execution_count": 48,
          "data": {
            "text/plain": [
              "0    False\n",
              "1     True\n",
              "2    False\n",
              "3     True\n",
              "4    False\n",
              "5     True\n",
              "6    False\n",
              "7     True\n",
              "8    False\n",
              "Name: temp, dtype: bool"
            ]
          },
          "metadata": {}
        }
      ],
      "execution_count": 48,
      "metadata": {
        "collapsed": false,
        "outputHidden": false,
        "inputHidden": false
      }
    },
    {
      "cell_type": "code",
      "source": [
        "weather"
      ],
      "outputs": [
        {
          "output_type": "execute_result",
          "execution_count": 49,
          "data": {
            "text/plain": [
              "          period        short_desc         temp  \\\n",
              "0  ThisAfternoon             Sunny  High: 67 °F   \n",
              "1        Tonight     Partly Cloudy   Low: 54 °F   \n",
              "2         Friday  DecreasingClouds  High: 70 °F   \n",
              "3    FridayNight  IncreasingClouds   Low: 55 °F   \n",
              "4       Saturday      Mostly Sunny  High: 68 °F   \n",
              "5  SaturdayNight     Mostly Cloudy   Low: 54 °F   \n",
              "6         Sunday      Mostly Sunny  High: 66 °F   \n",
              "7    SundayNight     Partly Cloudy   Low: 54 °F   \n",
              "8         Monday      Mostly Sunny  High: 66 °F   \n",
              "\n",
              "                                                desc  temp_num  is_night  \n",
              "0  This Afternoon: Sunny, with a high near 67. We...        67     False  \n",
              "1  Tonight: Partly cloudy, with a low around 54. ...        54      True  \n",
              "2  Friday: Mostly cloudy, then gradually becoming...        70     False  \n",
              "3  Friday Night: Increasing clouds, with a low ar...        55      True  \n",
              "4  Saturday: Mostly sunny, with a high near 68. W...        68     False  \n",
              "5  Saturday Night: Mostly cloudy, with a low arou...        54      True  \n",
              "6         Sunday: Mostly sunny, with a high near 66.        66     False  \n",
              "7  Sunday Night: Partly cloudy, with a low around...        54      True  \n",
              "8         Monday: Mostly sunny, with a high near 66.        66     False  "
            ],
            "text/html": [
              "<div>\n",
              "<style scoped>\n",
              "    .dataframe tbody tr th:only-of-type {\n",
              "        vertical-align: middle;\n",
              "    }\n",
              "\n",
              "    .dataframe tbody tr th {\n",
              "        vertical-align: top;\n",
              "    }\n",
              "\n",
              "    .dataframe thead th {\n",
              "        text-align: right;\n",
              "    }\n",
              "</style>\n",
              "<table border=\"1\" class=\"dataframe\">\n",
              "  <thead>\n",
              "    <tr style=\"text-align: right;\">\n",
              "      <th></th>\n",
              "      <th>period</th>\n",
              "      <th>short_desc</th>\n",
              "      <th>temp</th>\n",
              "      <th>desc</th>\n",
              "      <th>temp_num</th>\n",
              "      <th>is_night</th>\n",
              "    </tr>\n",
              "  </thead>\n",
              "  <tbody>\n",
              "    <tr>\n",
              "      <th>0</th>\n",
              "      <td>ThisAfternoon</td>\n",
              "      <td>Sunny</td>\n",
              "      <td>High: 67 °F</td>\n",
              "      <td>This Afternoon: Sunny, with a high near 67. We...</td>\n",
              "      <td>67</td>\n",
              "      <td>False</td>\n",
              "    </tr>\n",
              "    <tr>\n",
              "      <th>1</th>\n",
              "      <td>Tonight</td>\n",
              "      <td>Partly Cloudy</td>\n",
              "      <td>Low: 54 °F</td>\n",
              "      <td>Tonight: Partly cloudy, with a low around 54. ...</td>\n",
              "      <td>54</td>\n",
              "      <td>True</td>\n",
              "    </tr>\n",
              "    <tr>\n",
              "      <th>2</th>\n",
              "      <td>Friday</td>\n",
              "      <td>DecreasingClouds</td>\n",
              "      <td>High: 70 °F</td>\n",
              "      <td>Friday: Mostly cloudy, then gradually becoming...</td>\n",
              "      <td>70</td>\n",
              "      <td>False</td>\n",
              "    </tr>\n",
              "    <tr>\n",
              "      <th>3</th>\n",
              "      <td>FridayNight</td>\n",
              "      <td>IncreasingClouds</td>\n",
              "      <td>Low: 55 °F</td>\n",
              "      <td>Friday Night: Increasing clouds, with a low ar...</td>\n",
              "      <td>55</td>\n",
              "      <td>True</td>\n",
              "    </tr>\n",
              "    <tr>\n",
              "      <th>4</th>\n",
              "      <td>Saturday</td>\n",
              "      <td>Mostly Sunny</td>\n",
              "      <td>High: 68 °F</td>\n",
              "      <td>Saturday: Mostly sunny, with a high near 68. W...</td>\n",
              "      <td>68</td>\n",
              "      <td>False</td>\n",
              "    </tr>\n",
              "    <tr>\n",
              "      <th>5</th>\n",
              "      <td>SaturdayNight</td>\n",
              "      <td>Mostly Cloudy</td>\n",
              "      <td>Low: 54 °F</td>\n",
              "      <td>Saturday Night: Mostly cloudy, with a low arou...</td>\n",
              "      <td>54</td>\n",
              "      <td>True</td>\n",
              "    </tr>\n",
              "    <tr>\n",
              "      <th>6</th>\n",
              "      <td>Sunday</td>\n",
              "      <td>Mostly Sunny</td>\n",
              "      <td>High: 66 °F</td>\n",
              "      <td>Sunday: Mostly sunny, with a high near 66.</td>\n",
              "      <td>66</td>\n",
              "      <td>False</td>\n",
              "    </tr>\n",
              "    <tr>\n",
              "      <th>7</th>\n",
              "      <td>SundayNight</td>\n",
              "      <td>Partly Cloudy</td>\n",
              "      <td>Low: 54 °F</td>\n",
              "      <td>Sunday Night: Partly cloudy, with a low around...</td>\n",
              "      <td>54</td>\n",
              "      <td>True</td>\n",
              "    </tr>\n",
              "    <tr>\n",
              "      <th>8</th>\n",
              "      <td>Monday</td>\n",
              "      <td>Mostly Sunny</td>\n",
              "      <td>High: 66 °F</td>\n",
              "      <td>Monday: Mostly sunny, with a high near 66.</td>\n",
              "      <td>66</td>\n",
              "      <td>False</td>\n",
              "    </tr>\n",
              "  </tbody>\n",
              "</table>\n",
              "</div>"
            ]
          },
          "metadata": {}
        }
      ],
      "execution_count": 49,
      "metadata": {
        "collapsed": false,
        "outputHidden": false,
        "inputHidden": false
      }
    },
    {
      "cell_type": "markdown",
      "source": [
        "### Select only nighttime rows"
      ],
      "metadata": {}
    },
    {
      "cell_type": "code",
      "source": [
        "weather[is_night]"
      ],
      "outputs": [
        {
          "output_type": "execute_result",
          "execution_count": 50,
          "data": {
            "text/plain": [
              "          period        short_desc        temp  \\\n",
              "1        Tonight     Partly Cloudy  Low: 54 °F   \n",
              "3    FridayNight  IncreasingClouds  Low: 55 °F   \n",
              "5  SaturdayNight     Mostly Cloudy  Low: 54 °F   \n",
              "7    SundayNight     Partly Cloudy  Low: 54 °F   \n",
              "\n",
              "                                                desc  temp_num  is_night  \n",
              "1  Tonight: Partly cloudy, with a low around 54. ...        54      True  \n",
              "3  Friday Night: Increasing clouds, with a low ar...        55      True  \n",
              "5  Saturday Night: Mostly cloudy, with a low arou...        54      True  \n",
              "7  Sunday Night: Partly cloudy, with a low around...        54      True  "
            ],
            "text/html": [
              "<div>\n",
              "<style scoped>\n",
              "    .dataframe tbody tr th:only-of-type {\n",
              "        vertical-align: middle;\n",
              "    }\n",
              "\n",
              "    .dataframe tbody tr th {\n",
              "        vertical-align: top;\n",
              "    }\n",
              "\n",
              "    .dataframe thead th {\n",
              "        text-align: right;\n",
              "    }\n",
              "</style>\n",
              "<table border=\"1\" class=\"dataframe\">\n",
              "  <thead>\n",
              "    <tr style=\"text-align: right;\">\n",
              "      <th></th>\n",
              "      <th>period</th>\n",
              "      <th>short_desc</th>\n",
              "      <th>temp</th>\n",
              "      <th>desc</th>\n",
              "      <th>temp_num</th>\n",
              "      <th>is_night</th>\n",
              "    </tr>\n",
              "  </thead>\n",
              "  <tbody>\n",
              "    <tr>\n",
              "      <th>1</th>\n",
              "      <td>Tonight</td>\n",
              "      <td>Partly Cloudy</td>\n",
              "      <td>Low: 54 °F</td>\n",
              "      <td>Tonight: Partly cloudy, with a low around 54. ...</td>\n",
              "      <td>54</td>\n",
              "      <td>True</td>\n",
              "    </tr>\n",
              "    <tr>\n",
              "      <th>3</th>\n",
              "      <td>FridayNight</td>\n",
              "      <td>IncreasingClouds</td>\n",
              "      <td>Low: 55 °F</td>\n",
              "      <td>Friday Night: Increasing clouds, with a low ar...</td>\n",
              "      <td>55</td>\n",
              "      <td>True</td>\n",
              "    </tr>\n",
              "    <tr>\n",
              "      <th>5</th>\n",
              "      <td>SaturdayNight</td>\n",
              "      <td>Mostly Cloudy</td>\n",
              "      <td>Low: 54 °F</td>\n",
              "      <td>Saturday Night: Mostly cloudy, with a low arou...</td>\n",
              "      <td>54</td>\n",
              "      <td>True</td>\n",
              "    </tr>\n",
              "    <tr>\n",
              "      <th>7</th>\n",
              "      <td>SundayNight</td>\n",
              "      <td>Partly Cloudy</td>\n",
              "      <td>Low: 54 °F</td>\n",
              "      <td>Sunday Night: Partly cloudy, with a low around...</td>\n",
              "      <td>54</td>\n",
              "      <td>True</td>\n",
              "    </tr>\n",
              "  </tbody>\n",
              "</table>\n",
              "</div>"
            ]
          },
          "metadata": {}
        }
      ],
      "execution_count": 50,
      "metadata": {
        "collapsed": false,
        "outputHidden": false,
        "inputHidden": false
      }
    },
    {
      "cell_type": "code",
      "source": [],
      "outputs": [],
      "execution_count": null,
      "metadata": {
        "collapsed": false,
        "outputHidden": false,
        "inputHidden": false
      }
    }
  ],
  "metadata": {
    "kernel_info": {
      "name": "python3"
    },
    "language_info": {
      "name": "python",
      "version": "3.6.5",
      "mimetype": "text/x-python",
      "codemirror_mode": {
        "name": "ipython",
        "version": 3
      },
      "pygments_lexer": "ipython3",
      "nbconvert_exporter": "python",
      "file_extension": ".py"
    },
    "kernelspec": {
      "name": "python3",
      "language": "python",
      "display_name": "Python 3"
    },
    "nteract": {
      "version": "0.11.7"
    }
  },
  "nbformat": 4,
  "nbformat_minor": 4
}